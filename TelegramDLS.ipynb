{
  "nbformat": 4,
  "nbformat_minor": 0,
  "metadata": {
    "colab": {
      "name": "TelegramDLS.ipynb",
      "provenance": [],
      "collapsed_sections": [
        "W1iY9msG9Zcl",
        "z7waPtIhO4sl",
        "x0B7EkiAP2o0"
      ],
      "toc_visible": true
    },
    "kernelspec": {
      "name": "python3",
      "display_name": "Python 3"
    }
  },
  "cells": [
    {
      "cell_type": "markdown",
      "metadata": {
        "id": "uonYkm60OvTV",
        "colab_type": "text"
      },
      "source": [
        "## **Initialization**"
      ]
    },
    {
      "cell_type": "code",
      "metadata": {
        "id": "rAWlONiRL2Kr",
        "colab_type": "code",
        "outputId": "aff4dfc2-7d5c-4ca5-fa5c-75494cbdd588",
        "colab": {
          "base_uri": "https://localhost:8080/",
          "height": 360
        }
      },
      "source": [
        "!pip install -U ipykernel"
      ],
      "execution_count": 0,
      "outputs": [
        {
          "output_type": "stream",
          "text": [
            "Requirement already up-to-date: ipykernel in /usr/local/lib/python3.6/dist-packages (5.1.4)\n",
            "Requirement already satisfied, skipping upgrade: tornado>=4.2 in /usr/local/lib/python3.6/dist-packages (from ipykernel) (6.0.3)\n",
            "Requirement already satisfied, skipping upgrade: ipython>=5.0.0 in /usr/local/lib/python3.6/dist-packages (from ipykernel) (5.5.0)\n",
            "Requirement already satisfied, skipping upgrade: traitlets>=4.1.0 in /usr/local/lib/python3.6/dist-packages (from ipykernel) (4.3.3)\n",
            "Requirement already satisfied, skipping upgrade: jupyter-client in /usr/local/lib/python3.6/dist-packages (from ipykernel) (5.3.4)\n",
            "Requirement already satisfied, skipping upgrade: pygments in /usr/local/lib/python3.6/dist-packages (from ipython>=5.0.0->ipykernel) (2.1.3)\n",
            "Requirement already satisfied, skipping upgrade: prompt-toolkit<2.0.0,>=1.0.4 in /usr/local/lib/python3.6/dist-packages (from ipython>=5.0.0->ipykernel) (1.0.18)\n",
            "Requirement already satisfied, skipping upgrade: pexpect; sys_platform != \"win32\" in /usr/local/lib/python3.6/dist-packages (from ipython>=5.0.0->ipykernel) (4.8.0)\n",
            "Requirement already satisfied, skipping upgrade: pickleshare in /usr/local/lib/python3.6/dist-packages (from ipython>=5.0.0->ipykernel) (0.7.5)\n",
            "Requirement already satisfied, skipping upgrade: simplegeneric>0.8 in /usr/local/lib/python3.6/dist-packages (from ipython>=5.0.0->ipykernel) (0.8.1)\n",
            "Requirement already satisfied, skipping upgrade: setuptools>=18.5 in /usr/local/lib/python3.6/dist-packages (from ipython>=5.0.0->ipykernel) (45.1.0)\n",
            "Requirement already satisfied, skipping upgrade: decorator in /usr/local/lib/python3.6/dist-packages (from ipython>=5.0.0->ipykernel) (4.4.1)\n",
            "Requirement already satisfied, skipping upgrade: ipython-genutils in /usr/local/lib/python3.6/dist-packages (from traitlets>=4.1.0->ipykernel) (0.2.0)\n",
            "Requirement already satisfied, skipping upgrade: six in /usr/local/lib/python3.6/dist-packages (from traitlets>=4.1.0->ipykernel) (1.12.0)\n",
            "Requirement already satisfied, skipping upgrade: jupyter-core>=4.6.0 in /usr/local/lib/python3.6/dist-packages (from jupyter-client->ipykernel) (4.6.1)\n",
            "Requirement already satisfied, skipping upgrade: pyzmq>=13 in /usr/local/lib/python3.6/dist-packages (from jupyter-client->ipykernel) (17.0.0)\n",
            "Requirement already satisfied, skipping upgrade: python-dateutil>=2.1 in /usr/local/lib/python3.6/dist-packages (from jupyter-client->ipykernel) (2.6.1)\n",
            "Requirement already satisfied, skipping upgrade: wcwidth in /usr/local/lib/python3.6/dist-packages (from prompt-toolkit<2.0.0,>=1.0.4->ipython>=5.0.0->ipykernel) (0.1.8)\n",
            "Requirement already satisfied, skipping upgrade: ptyprocess>=0.5 in /usr/local/lib/python3.6/dist-packages (from pexpect; sys_platform != \"win32\"->ipython>=5.0.0->ipykernel) (0.6.0)\n"
          ],
          "name": "stdout"
        }
      ]
    },
    {
      "cell_type": "code",
      "metadata": {
        "id": "wN788SEqL4k7",
        "colab_type": "code",
        "outputId": "ffd46f87-1067-4307-867a-24a5bd47b8f9",
        "colab": {
          "base_uri": "https://localhost:8080/",
          "height": 173
        }
      },
      "source": [
        "!pip install python-telegram-bot --upgrade"
      ],
      "execution_count": 0,
      "outputs": [
        {
          "output_type": "stream",
          "text": [
            "Requirement already up-to-date: python-telegram-bot in /usr/local/lib/python3.6/dist-packages (12.3.0)\n",
            "Requirement already satisfied, skipping upgrade: tornado>=5.1 in /usr/local/lib/python3.6/dist-packages (from python-telegram-bot) (6.0.3)\n",
            "Requirement already satisfied, skipping upgrade: certifi in /usr/local/lib/python3.6/dist-packages (from python-telegram-bot) (2019.11.28)\n",
            "Requirement already satisfied, skipping upgrade: future>=0.16.0 in /usr/local/lib/python3.6/dist-packages (from python-telegram-bot) (0.16.0)\n",
            "Requirement already satisfied, skipping upgrade: cryptography in /usr/local/lib/python3.6/dist-packages (from python-telegram-bot) (2.8)\n",
            "Requirement already satisfied, skipping upgrade: cffi!=1.11.3,>=1.8 in /usr/local/lib/python3.6/dist-packages (from cryptography->python-telegram-bot) (1.13.2)\n",
            "Requirement already satisfied, skipping upgrade: six>=1.4.1 in /usr/local/lib/python3.6/dist-packages (from cryptography->python-telegram-bot) (1.12.0)\n",
            "Requirement already satisfied, skipping upgrade: pycparser in /usr/local/lib/python3.6/dist-packages (from cffi!=1.11.3,>=1.8->cryptography->python-telegram-bot) (2.19)\n"
          ],
          "name": "stdout"
        }
      ]
    },
    {
      "cell_type": "code",
      "metadata": {
        "id": "hsUCfzcjKC15",
        "colab_type": "code",
        "outputId": "e76183ea-f838-4ff0-ffe4-6f7fcac3aae6",
        "colab": {
          "base_uri": "https://localhost:8080/",
          "height": 68
        }
      },
      "source": [
        "!pip install PILLOW\n",
        "!pip install scipy==1.0"
      ],
      "execution_count": 0,
      "outputs": [
        {
          "output_type": "stream",
          "text": [
            "Requirement already satisfied: PILLOW in /usr/local/lib/python3.6/dist-packages (6.2.2)\n",
            "Requirement already satisfied: scipy==1.0 in /usr/local/lib/python3.6/dist-packages (1.0.0)\n",
            "Requirement already satisfied: numpy>=1.8.2 in /usr/local/lib/python3.6/dist-packages (from scipy==1.0) (1.17.5)\n"
          ],
          "name": "stdout"
        }
      ]
    },
    {
      "cell_type": "code",
      "metadata": {
        "id": "i7BQMiwbYFop",
        "colab_type": "code",
        "colab": {}
      },
      "source": [
        "from io import BytesIO\n",
        "from PIL import Image\n",
        "import torch\n",
        "import torch.nn as nn\n",
        "import torch.nn.functional as F\n",
        "import torch.optim as optim\n",
        "import torchvision\n",
        "import torchvision.transforms as transforms\n",
        "import torchvision.models as models\n",
        "from scipy import misc\n",
        "import numpy as np\n",
        "import copy"
      ],
      "execution_count": 0,
      "outputs": []
    },
    {
      "cell_type": "markdown",
      "metadata": {
        "id": "W1iY9msG9Zcl",
        "colab_type": "text"
      },
      "source": [
        "## **Style Transfer**"
      ]
    },
    {
      "cell_type": "markdown",
      "metadata": {
        "id": "z7waPtIhO4sl",
        "colab_type": "text"
      },
      "source": [
        "### *Content and Style losses (and Normalization here)*"
      ]
    },
    {
      "cell_type": "code",
      "metadata": {
        "id": "P2vvpSbuMOiE",
        "colab_type": "code",
        "colab": {}
      },
      "source": [
        "class ContentLoss(nn.Module):\n",
        "\n",
        "        def __init__(self, target,):\n",
        "            super(ContentLoss, self).__init__()\n",
        "            # we 'detach' the target content from the tree used\n",
        "            # to dynamically compute the gradient: this is a stated value,\n",
        "            # not a variable. Otherwise the forward method of the criterion\n",
        "            # will throw an error.\n",
        "            self.target = target.detach()#это константа. Убираем ее из дерева вычеслений\n",
        "            self.loss = F.mse_loss(self.target, self.target )#to initialize with something\n",
        "\n",
        "        def forward(self, input):\n",
        "            self.loss = F.mse_loss(input, self.target)\n",
        "            return input"
      ],
      "execution_count": 0,
      "outputs": []
    },
    {
      "cell_type": "code",
      "metadata": {
        "id": "-rXBDSeoMRjr",
        "colab_type": "code",
        "colab": {}
      },
      "source": [
        " def gram_matrix(input):\n",
        "        batch_size , h, w, f_map_num = input.size()  # batch size(=1)\n",
        "        # b=number of feature maps\n",
        "        # (h,w)=dimensions of a feature map (N=h*w)\n",
        "\n",
        "        features = input.view(batch_size * h, w * f_map_num)  # resise F_XL into \\hat F_XL\n",
        "\n",
        "        G = torch.mm(features, features.t())  # compute the gram product\n",
        "\n",
        "        # we 'normalize' the values of the gram matrix\n",
        "        # by dividing by the number of element in each feature maps.\n",
        "        return G.div(batch_size * h * w * f_map_num)"
      ],
      "execution_count": 0,
      "outputs": []
    },
    {
      "cell_type": "code",
      "metadata": {
        "id": "zn8fiPh4MSOH",
        "colab_type": "code",
        "colab": {}
      },
      "source": [
        "class StyleLoss(nn.Module):\n",
        "        def __init__(self, target_feature):\n",
        "            super(StyleLoss, self).__init__()\n",
        "            self.target = gram_matrix(target_feature).detach()\n",
        "            self.loss = F.mse_loss(self.target, self.target)# to initialize with something\n",
        "\n",
        "        def forward(self, input):\n",
        "            G = gram_matrix(input)\n",
        "            self.loss = F.mse_loss(G, self.target)\n",
        "            return input"
      ],
      "execution_count": 0,
      "outputs": []
    },
    {
      "cell_type": "code",
      "metadata": {
        "id": "9h099ZaWMVKQ",
        "colab_type": "code",
        "colab": {}
      },
      "source": [
        "class Normalization(nn.Module):\n",
        "        def __init__(self, mean, std):\n",
        "            super(Normalization, self).__init__()\n",
        "            # .view the mean and std to make them [C x 1 x 1] so that they can\n",
        "            # directly work with image Tensor of shape [B x C x H x W].\n",
        "            # B is batch size. C is number of channels. H is height and W is width.\n",
        "            self.mean = torch.tensor(mean).view(-1, 1, 1)\n",
        "            self.std = torch.tensor(std).view(-1, 1, 1)\n",
        "\n",
        "        def forward(self, img):\n",
        "            # normalize img\n",
        "            return (img - self.mean) / self.std"
      ],
      "execution_count": 0,
      "outputs": []
    },
    {
      "cell_type": "markdown",
      "metadata": {
        "id": "x0B7EkiAP2o0",
        "colab_type": "text"
      },
      "source": [
        "### *class StyleTrandferModel():*"
      ]
    },
    {
      "cell_type": "code",
      "metadata": {
        "id": "OTBFlDcSnmnL",
        "colab_type": "code",
        "colab": {}
      },
      "source": [
        "content_layers_default = ['conv_4']\n",
        "style_layers_default = ['conv_1', 'conv_2', 'conv_3', 'conv_4', 'conv_5']"
      ],
      "execution_count": 0,
      "outputs": []
    },
    {
      "cell_type": "code",
      "metadata": {
        "id": "EONogFVK9e7C",
        "colab_type": "code",
        "colab": {}
      },
      "source": [
        "class StyleTransferModel():\n",
        "    def __init__(self, content_layers=content_layers_default, style_layers=style_layers_default, num_steps = 500, style_weight = 100000):\n",
        "        self.device = torch.device(\"cuda\" if torch.cuda.is_available() else \"cpu\")\n",
        "        self.cnn = models.vgg19(pretrained=True).features.to(self.device).eval()\n",
        "        self.imsize = 128  \n",
        "        self.loader = transforms.Compose([\n",
        "            transforms.Resize(self.imsize),  # нормируем размер изображения\n",
        "            transforms.CenterCrop(self.imsize),\n",
        "            transforms.ToTensor()])\n",
        "        self.unloader = transforms.ToPILImage()\n",
        "        self.normalization_mean = torch.tensor([0.485, 0.456, 0.406]).to(self.device)\n",
        "        self.normalization_std = torch.tensor([0.229, 0.224, 0.225]).to(self.device)\n",
        "        self.content_layers = content_layers\n",
        "        self.style_layers = style_layers\n",
        "\n",
        "        self.num_steps=num_steps\n",
        "        self.style_weight=style_weight\n",
        "        self.content_weight=1\n",
        "\n",
        "        pass\n",
        "\n",
        "    def image_loader(self, image_stream):\n",
        "        image = Image.open(image_stream)\n",
        "        image = self.loader(image).unsqueeze(0)\n",
        "\n",
        "        return image.to(self.device, torch.float)\n",
        "\n",
        "    def imshow(self, tensor, title=None, gr = False):\n",
        "        image = tensor.cpu().clone()   \n",
        "        image = image.squeeze(0)      # функция для отрисовки изображения\n",
        "        image = self.unloader(image)\n",
        "        plt.imshow(image)\n",
        "        if gr == True:\n",
        "            if title is not None:\n",
        "                plt.title(title)\n",
        "            plt.pause(0.001)\n",
        "\n",
        "    def get_style_model_and_losses(self, style_img, content_img):\n",
        "        cnn = copy.deepcopy(self.cnn)\n",
        "\n",
        "        # normalization module\n",
        "        normalization = Normalization(self.normalization_mean, self.normalization_std).to(self.device)\n",
        "\n",
        "        # just in order to have an iterable access to or list of content/syle\n",
        "        # losses\n",
        "        content_losses = []\n",
        "        style_losses = []\n",
        "\n",
        "        # assuming that cnn is a nn.Sequential, so we make a new nn.Sequential\n",
        "        # to put in modules that are supposed to be activated sequentially\n",
        "        model = nn.Sequential(normalization)\n",
        "\n",
        "        i = 0  # increment every time we see a conv\n",
        "        for layer in cnn.children():\n",
        "            if isinstance(layer, nn.Conv2d):\n",
        "                i += 1\n",
        "                name = 'conv_{}'.format(i)\n",
        "            elif isinstance(layer, nn.ReLU):\n",
        "                name = 'relu_{}'.format(i)\n",
        "                # The in-place version doesn't play very nicely with the ContentLoss\n",
        "                # and StyleLoss we insert below. So we replace with out-of-place\n",
        "                # ones here.\n",
        "                #Переопределим relu уровень\n",
        "                layer = nn.ReLU(inplace=False)\n",
        "            elif isinstance(layer, nn.MaxPool2d):\n",
        "                name = 'pool_{}'.format(i)\n",
        "            elif isinstance(layer, nn.BatchNorm2d):\n",
        "                name = 'bn_{}'.format(i)\n",
        "            else:\n",
        "                raise RuntimeError('Unrecognized layer: {}'.format(layer.__class__.__name__))\n",
        "\n",
        "            model.add_module(name, layer)\n",
        "\n",
        "            if name in self.content_layers:\n",
        "                # add content loss:\n",
        "                target = model(content_img).detach()\n",
        "                content_loss = ContentLoss(target)\n",
        "                model.add_module(\"content_loss_{}\".format(i), content_loss)\n",
        "                content_losses.append(content_loss)\n",
        "\n",
        "            if name in self.style_layers:\n",
        "                # add style loss:\n",
        "                target_feature = model(style_img).detach()\n",
        "                style_loss = StyleLoss(target_feature)\n",
        "                model.add_module(\"style_loss_{}\".format(i), style_loss)\n",
        "                style_losses.append(style_loss)\n",
        "\n",
        "        # now we trim off the layers after the last content and style losses\n",
        "        #выбрасываем все уровни после последенего styel loss или content loss\n",
        "        for i in range(len(model) - 1, -1, -1):\n",
        "            if isinstance(model[i], ContentLoss) or isinstance(model[i], StyleLoss):\n",
        "                break\n",
        "\n",
        "        model = model[:(i + 1)]\n",
        "\n",
        "        return model, style_losses, content_losses\n",
        "\n",
        "    def get_input_optimizer(self, input_img):\n",
        "        # this line to show that input is a parameter that requires a gradient\n",
        "        #добоваляет содержимое тензора катринки в список изменяемых оптимизатором параметров\n",
        "        optimizer = optim.LBFGS([input_img.requires_grad_()]) \n",
        "        return optimizer\n",
        "\n",
        "    \n",
        "\n",
        "    def transfer_style(self, content_img_stream, style_img_stream):\n",
        "        style_img = self.image_loader(style_img_stream)\n",
        "        content_img = self.image_loader(content_img_stream)\n",
        "        input_img = content_img.clone()\n",
        "\n",
        "        \"\"\"Run the style transfer.\"\"\"\n",
        "        print('Building the style transfer model..')\n",
        "        model, style_losses, content_losses = self.get_style_model_and_losses(style_img, content_img)\n",
        "        optimizer = self.get_input_optimizer(input_img)\n",
        "\n",
        "        print('Optimizing..')\n",
        "        run = [0]\n",
        "        while run[0] <= self.num_steps:\n",
        "\n",
        "            def closure():\n",
        "                # correct the values \n",
        "                # это для того, чтобы значения тензора картинки не выходили за пределы [0;1]\n",
        "                input_img.data.clamp_(0, 1)\n",
        "\n",
        "                optimizer.zero_grad()\n",
        "\n",
        "                model(input_img)\n",
        "\n",
        "                style_score = 0\n",
        "                content_score = 0\n",
        "\n",
        "                for sl in style_losses:\n",
        "                    style_score += sl.loss\n",
        "                for cl in content_losses:\n",
        "                    content_score += cl.loss\n",
        "                \n",
        "                #взвешивание ощибки\n",
        "                style_score *= self.style_weight\n",
        "                content_score *= self.content_weight\n",
        "\n",
        "                loss = style_score + content_score\n",
        "                loss.backward()\n",
        "\n",
        "                run[0] += 1\n",
        "                if run[0] % 50 == 0:\n",
        "                    print(\"run {}:\".format(run))\n",
        "                    print('Style Loss : {:4f} Content Loss: {:4f}'.format(\n",
        "                        style_score.item(), content_score.item()))\n",
        "                    print()\n",
        "\n",
        "                return style_score + content_score\n",
        "\n",
        "            optimizer.step(closure)\n",
        "\n",
        "        # a last correction...\n",
        "        #print('imput_image before last correction', input_img.size())\n",
        "        input_img.data.clamp_(0, 1)\n",
        "        #print('imput_image after last correction and with .data', input_img.data.size())\n",
        "\n",
        "\n",
        "        return misc.toimage(input_img.data.squeeze())"
      ],
      "execution_count": 0,
      "outputs": []
    },
    {
      "cell_type": "markdown",
      "metadata": {
        "id": "czZHIO9C9mvD",
        "colab_type": "text"
      },
      "source": [
        "## **Telegram Bot**"
      ]
    },
    {
      "cell_type": "code",
      "metadata": {
        "id": "dK-oRb6w957Q",
        "colab_type": "code",
        "colab": {}
      },
      "source": [
        "from telegram.ext import Updater, MessageHandler, Filters, CommandHandler, ConversationHandler\n",
        "import logging"
      ],
      "execution_count": 0,
      "outputs": []
    },
    {
      "cell_type": "code",
      "metadata": {
        "id": "_3B-w0w8rTNc",
        "colab_type": "code",
        "colab": {}
      },
      "source": [
        "logging.basicConfig(format='%(asctime)s - %(name)s - %(levelname)s - %(message)s', level=logging.INFO)\n",
        "\n",
        "logger = logging.getLogger(__name__)"
      ],
      "execution_count": 0,
      "outputs": []
    },
    {
      "cell_type": "code",
      "metadata": {
        "id": "dqPJ7xgr9t6h",
        "colab_type": "code",
        "colab": {}
      },
      "source": [
        "model = StyleTransferModel(num_steps = 500, style_weight = 100000)\n",
        "first_image_file = {}"
      ],
      "execution_count": 0,
      "outputs": []
    },
    {
      "cell_type": "code",
      "metadata": {
        "id": "Yfz31EMnIV25",
        "colab_type": "code",
        "colab": {}
      },
      "source": [
        "PHOTO = 0"
      ],
      "execution_count": 0,
      "outputs": []
    },
    {
      "cell_type": "code",
      "metadata": {
        "id": "9DMax3sSk5OT",
        "colab_type": "code",
        "colab": {}
      },
      "source": [
        "def start(update, context):\n",
        "    update.message.reply_text(\n",
        "        \"Hey, hey! Welcome to my Lab. I'm Professor Mutator.\\n\"\n",
        "        'Ok, let me show you something.\\n\\n'\n",
        "        \n",
        "        'Send me a Content photo')\n",
        "    return PHOTO"
      ],
      "execution_count": 0,
      "outputs": []
    },
    {
      "cell_type": "code",
      "metadata": {
        "id": "Tcs2BpY_91Ww",
        "colab_type": "code",
        "colab": {}
      },
      "source": [
        "def send_prediction_on_photo(update, context):\n",
        "    # Нам нужно получить две картинки, чтобы произвести перенос стиля, но каждая картинка приходит в\n",
        "    # отдельном апдейте, поэтому в простейшем случае мы будем сохранять id первой картинки в память,\n",
        "    # чтобы, когда уже придет вторая, мы могли загрузить в память уже сами картинки и обработать их.\n",
        "    # Точно место для улучшения, я бы\n",
        "    phrases = [\"Super cool!\", \"I absolutely like that one!\", \"Great choice!\", \n",
        "               \"Wow! That's a realy great one.\", \"This one is amazing.\", \n",
        "               \"That's kind of sophisticated photo.\", \"I'm surprised at you!\", \n",
        "               \"Oh là là...\", \"I'm crazy about that one!\", \"I like it!\",\n",
        "               \"Awesome!\", \"Oh, wow!\", \"Not bad, absolutely not bad...\",\n",
        "               ]\n",
        "\n",
        "    Puzzles = [\"Choose two numbers, x and y, each uniformly from [0,1]. What's the probability x/y rounds to an even number?\"\n",
        "               ]\n",
        "\n",
        "    random_phrase = phrases[int(np.random.uniform(0,1000))% len(phrases)]\n",
        "\n",
        "    random_puzzle = Puzzles[int(np.random.uniform(0,1000))% len(Puzzles)]\n",
        "\n",
        "    chat_id = update.message.chat_id\n",
        "    print(\"Got image from {}\".format(chat_id))\n",
        "\n",
        "    # получаем информацию о картинке\n",
        "    image_info = update.message.photo[-1]\n",
        "    image_file = context.bot.get_file(image_info)\n",
        "\n",
        "    if chat_id in first_image_file:\n",
        "        # первая картинка, которая к нам пришла станет content image, а вторая style image\n",
        "        update.message.reply_text(random_phrase + \"\\n\\nLet's see the result.\\n\"\n",
        "                                                  \"Oh, but it will take some time...\\n\"\n",
        "                                                  \"About 5 minutes \\n\"\n",
        "                                                  \"You can go and have a cup of tea or coffee (I have no idea what you prefer) or you can try to solve that puzzle:\\n\\n \"\n",
        "                                                  + random_puzzle)\n",
        "        content_image_stream = BytesIO()\n",
        "        first_image_file[chat_id].download(out=content_image_stream)\n",
        "        del first_image_file[chat_id]\n",
        "\n",
        "        style_image_stream = BytesIO()\n",
        "        image_file.download(out=style_image_stream)\n",
        "        output = model.transfer_style(content_image_stream, style_image_stream)\n",
        "\n",
        "        # теперь отправим назад фото\n",
        "        output_stream = BytesIO()\n",
        "        output.save(output_stream, format='PNG')\n",
        "        output_stream.seek(0)\n",
        "        context.bot.send_photo(chat_id, photo=output_stream)\n",
        "        print(\"Sent Photo to user\")\n",
        "    else:\n",
        "        first_image_file[chat_id] = image_file\n",
        "        update.message.reply_text(random_phrase + ' Now send me a style photo.')"
      ],
      "execution_count": 0,
      "outputs": []
    },
    {
      "cell_type": "code",
      "metadata": {
        "id": "PZmz5p5HvOZU",
        "colab_type": "code",
        "colab": {}
      },
      "source": [
        "def cancel(update, context):\n",
        "    user = update.message.from_user\n",
        "    logger.info(\"User %s do not have enough time to visit Mutation Laboratory.\", user.first_name)\n",
        "    update.message.reply_text('Bye! I hope we can talk again some day.')\n",
        "    \n",
        "    return ConversationHandler.END\n",
        "\n",
        "def error(update, context):\n",
        "    \"\"\"Log Errors caused by Updates.\"\"\"\n",
        "    logger.warning('Update \"%s\" caused error \"%s\"', update, context.error)"
      ],
      "execution_count": 0,
      "outputs": []
    },
    {
      "cell_type": "code",
      "metadata": {
        "id": "4HW_fzzC-KeH",
        "colab_type": "code",
        "outputId": "70c9977f-d582-41c1-cfea-fb11066a9ae6",
        "colab": {
          "base_uri": "https://localhost:8080/",
          "height": 51
        }
      },
      "source": [
        "def main():    \n",
        "    updater = Updater(token=\"TOKEN\", use_context=True)\n",
        "    dp = updater.dispatcher\n",
        "\n",
        "    conv_handler = ConversationHandler(\n",
        "        entry_points=[CommandHandler('start', start)],\n",
        "\n",
        "        states={\n",
        "            PHOTO: [MessageHandler(Filters.photo, send_prediction_on_photo)],\n",
        "        },\n",
        "        fallbacks=[CommandHandler('cancel', cancel)]\n",
        "    )\n",
        "\n",
        "    # # dp.add_handler(CommandHandler(\"start\", start))\n",
        "    # dp.add_handler(MessageHandler(Filters.photo, send_prediction_on_photo))\n",
        "    dp.add_handler(conv_handler)\n",
        "\n",
        "    dp.add_error_handler(error)\n",
        "\n",
        "    updater.start_polling()\n",
        "    updater.idle()\n",
        "if __name__ == '__main__':\n",
        "    main()"
      ],
      "execution_count": 0,
      "outputs": [
        {
          "output_type": "stream",
          "text": [
            "2020-02-08 12:13:20,831 - telegram.ext.updater - INFO - Received signal 2 (SIGINT), stopping...\n",
            "2020-02-08 12:13:21,749 - telegram.ext.updater - WARNING - Exiting immediately!\n"
          ],
          "name": "stderr"
        }
      ]
    },
    {
      "cell_type": "markdown",
      "metadata": {
        "id": "x4duPheep0Rd",
        "colab_type": "text"
      },
      "source": [
        "## **SGRAN**"
      ]
    }
  ]
}